{
 "cells": [
  {
   "cell_type": "markdown",
   "metadata": {},
   "source": [
    "# Predict audiobooks returning customers\n",
    "\n",
    "I am building a model that analysises data from customers of an audiobook app to classify them as returning or not, in a boolean way. By \"returning\" I mean returning customers, i.e. if they will go back to using the app to purchase more products.\n",
    "Methods used:\n",
    "- NN\n",
    "- SVM (as comparison)\n",
    "\n",
    "The data are imported from an attached csv file, and is tables as follows:\n",
    "\n",
    "| customer id | average minutes spent per book | total minutes spent on app  |average price of book   |total spent on app   |has left reviews?|review score|completion fraction| minutes listened |number of support requests|Last visited time minus purchase date| Target (dependent variable)|\n",
    "|---------------|-------|---|---|---|---|---|---|---|---|---|---|\n",
    "|   x   |   x    |  x | x  | x  |x|x|x|x|x|x|x|x|x|\n",
    "\n",
    "### Methodology - SVM model\n",
    "\n",
    "- importing the data: data shown as it is in a pandas dataframe, then imported from the csv files generated in the BC_preprocessing notebook;\n",
    "- splitting into train and test datasets;\n",
    "- definition of the model;\n",
    "- testing of the model;\n",
    "\n",
    "This work is based on an exercise from https://www.udemy.com/course/the-data-science-course-complete-data-science-bootcamp/"
   ]
  },
  {
   "cell_type": "code",
   "execution_count": 9,
   "metadata": {},
   "outputs": [],
   "source": [
    "import itertools\n",
    "import numpy as np\n",
    "import matplotlib.pyplot as plt\n",
    "from matplotlib.ticker import NullFormatter\n",
    "import pandas as pd\n",
    "import numpy as np\n",
    "import matplotlib.ticker as ticker\n",
    "from sklearn import preprocessing\n",
    "from sklearn import svm\n",
    "from sklearn.metrics import classification_report, confusion_matrix\n",
    "from sklearn import metrics\n",
    "\n",
    "%matplotlib inline"
   ]
  },
  {
   "cell_type": "code",
   "execution_count": 2,
   "metadata": {},
   "outputs": [
    {
     "data": {
      "text/html": [
       "<div>\n",
       "<style scoped>\n",
       "    .dataframe tbody tr th:only-of-type {\n",
       "        vertical-align: middle;\n",
       "    }\n",
       "\n",
       "    .dataframe tbody tr th {\n",
       "        vertical-align: top;\n",
       "    }\n",
       "\n",
       "    .dataframe thead th {\n",
       "        text-align: right;\n",
       "    }\n",
       "</style>\n",
       "<table border=\"1\" class=\"dataframe\">\n",
       "  <thead>\n",
       "    <tr style=\"text-align: right;\">\n",
       "      <th></th>\n",
       "      <th>id</th>\n",
       "      <th>mins_avg</th>\n",
       "      <th>mins_tot</th>\n",
       "      <th>price_avg</th>\n",
       "      <th>price_tot</th>\n",
       "      <th>review</th>\n",
       "      <th>rev_score</th>\n",
       "      <th>completion</th>\n",
       "      <th>mins_listened</th>\n",
       "      <th>support_req</th>\n",
       "      <th>Last_visited_minus_purchase_date</th>\n",
       "      <th>Target</th>\n",
       "      <th>num_books</th>\n",
       "    </tr>\n",
       "  </thead>\n",
       "  <tbody>\n",
       "    <tr>\n",
       "      <th>0</th>\n",
       "      <td>611</td>\n",
       "      <td>1404.0</td>\n",
       "      <td>2808</td>\n",
       "      <td>6.66</td>\n",
       "      <td>13.33</td>\n",
       "      <td>1</td>\n",
       "      <td>6.5</td>\n",
       "      <td>0.0</td>\n",
       "      <td>0.0</td>\n",
       "      <td>0</td>\n",
       "      <td>182</td>\n",
       "      <td>1</td>\n",
       "      <td>2.0</td>\n",
       "    </tr>\n",
       "    <tr>\n",
       "      <th>1</th>\n",
       "      <td>705</td>\n",
       "      <td>324.0</td>\n",
       "      <td>324</td>\n",
       "      <td>10.13</td>\n",
       "      <td>10.13</td>\n",
       "      <td>1</td>\n",
       "      <td>9.0</td>\n",
       "      <td>0.0</td>\n",
       "      <td>0.0</td>\n",
       "      <td>1</td>\n",
       "      <td>334</td>\n",
       "      <td>1</td>\n",
       "      <td>1.0</td>\n",
       "    </tr>\n",
       "    <tr>\n",
       "      <th>2</th>\n",
       "      <td>391</td>\n",
       "      <td>1620.0</td>\n",
       "      <td>1620</td>\n",
       "      <td>15.31</td>\n",
       "      <td>15.31</td>\n",
       "      <td>0</td>\n",
       "      <td>9.0</td>\n",
       "      <td>0.0</td>\n",
       "      <td>0.0</td>\n",
       "      <td>0</td>\n",
       "      <td>183</td>\n",
       "      <td>1</td>\n",
       "      <td>1.0</td>\n",
       "    </tr>\n",
       "    <tr>\n",
       "      <th>3</th>\n",
       "      <td>819</td>\n",
       "      <td>432.0</td>\n",
       "      <td>1296</td>\n",
       "      <td>7.11</td>\n",
       "      <td>21.33</td>\n",
       "      <td>1</td>\n",
       "      <td>9.0</td>\n",
       "      <td>0.0</td>\n",
       "      <td>0.0</td>\n",
       "      <td>0</td>\n",
       "      <td>0</td>\n",
       "      <td>1</td>\n",
       "      <td>3.0</td>\n",
       "    </tr>\n",
       "    <tr>\n",
       "      <th>4</th>\n",
       "      <td>138</td>\n",
       "      <td>2160.0</td>\n",
       "      <td>2160</td>\n",
       "      <td>10.13</td>\n",
       "      <td>10.13</td>\n",
       "      <td>1</td>\n",
       "      <td>9.0</td>\n",
       "      <td>0.0</td>\n",
       "      <td>0.0</td>\n",
       "      <td>0</td>\n",
       "      <td>5</td>\n",
       "      <td>1</td>\n",
       "      <td>1.0</td>\n",
       "    </tr>\n",
       "  </tbody>\n",
       "</table>\n",
       "</div>"
      ],
      "text/plain": [
       "    id  mins_avg  mins_tot  price_avg  price_tot  review  rev_score  \\\n",
       "0  611    1404.0      2808       6.66      13.33       1        6.5   \n",
       "1  705     324.0       324      10.13      10.13       1        9.0   \n",
       "2  391    1620.0      1620      15.31      15.31       0        9.0   \n",
       "3  819     432.0      1296       7.11      21.33       1        9.0   \n",
       "4  138    2160.0      2160      10.13      10.13       1        9.0   \n",
       "\n",
       "   completion  mins_listened  support_req  Last_visited_minus_purchase_date  \\\n",
       "0         0.0            0.0            0                               182   \n",
       "1         0.0            0.0            1                               334   \n",
       "2         0.0            0.0            0                               183   \n",
       "3         0.0            0.0            0                                 0   \n",
       "4         0.0            0.0            0                                 5   \n",
       "\n",
       "   Target  num_books  \n",
       "0       1        2.0  \n",
       "1       1        1.0  \n",
       "2       1        1.0  \n",
       "3       1        3.0  \n",
       "4       1        1.0  "
      ]
     },
     "execution_count": 2,
     "metadata": {},
     "output_type": "execute_result"
    }
   ],
   "source": [
    "ab_ds = pd.read_csv(\"Audiobooks_data.csv\")\n",
    "ab_ds.columns = ['id','mins_avg','mins_tot','price_avg','price_tot','review','rev_score','completion','mins_listened','support_req','Last_visited_minus_purchase_date','Target']\n",
    "ab_ds=ab_ds.assign(num_books=lambda x: x.mins_tot/x.mins_avg)\n",
    "ab_ds.head()"
   ]
  },
  {
   "cell_type": "markdown",
   "metadata": {},
   "source": [
    "## Balancing the dataset"
   ]
  },
  {
   "cell_type": "code",
   "execution_count": null,
   "metadata": {},
   "outputs": [],
   "source": []
  },
  {
   "cell_type": "markdown",
   "metadata": {},
   "source": [
    "## ...with np dataset as used with TF"
   ]
  },
  {
   "cell_type": "code",
   "execution_count": 3,
   "metadata": {},
   "outputs": [],
   "source": [
    "shuffled_inputs = np.loadtxt(\"shuffled_inputs.csv\", delimiter=',')\n",
    "shuffled_targets = np.loadtxt(\"shuffled_targets.csv\", delimiter=',')"
   ]
  },
  {
   "cell_type": "markdown",
   "metadata": {},
   "source": [
    "### Splitting into train and test\n",
    "80-20 partition"
   ]
  },
  {
   "cell_type": "code",
   "execution_count": 4,
   "metadata": {},
   "outputs": [],
   "source": [
    "samples_count =  shuffled_inputs.shape[0]\n",
    "train_samples_count=int(samples_count*0.8)\n",
    "\n",
    "test_samples_count=samples_count-train_samples_count\n",
    "\n",
    "train_inputs=shuffled_inputs[:train_samples_count]\n",
    "train_targets=shuffled_targets[:train_samples_count]\n",
    "\n",
    "test_inputs=shuffled_inputs[train_samples_count:train_samples_count+test_samples_count]\n",
    "test_targets=shuffled_targets[train_samples_count:train_samples_count+test_samples_count]"
   ]
  },
  {
   "cell_type": "markdown",
   "metadata": {},
   "source": [
    "### SVM model"
   ]
  },
  {
   "cell_type": "code",
   "execution_count": 32,
   "metadata": {},
   "outputs": [
    {
     "data": {
      "text/plain": [
       "SVC(C=2, cache_size=200, class_weight=None, coef0=0.0,\n",
       "    decision_function_shape='ovr', degree=3, gamma='auto_deprecated',\n",
       "    kernel='linear', max_iter=-1, probability=False, random_state=None,\n",
       "    shrinking=True, tol=0.001, verbose=False)"
      ]
     },
     "execution_count": 32,
     "metadata": {},
     "output_type": "execute_result"
    }
   ],
   "source": [
    "X_set_svm = train_inputs[:,:]\n",
    "audiobooks_bc_svm = svm.SVC(C=2,kernel='linear', degree=3,decision_function_shape='ovr') #define the svm model\n",
    "audiobooks_bc_svm.fit(X_set_svm, train_targets) # fit the model"
   ]
  },
  {
   "cell_type": "markdown",
   "metadata": {},
   "source": [
    "# Testing"
   ]
  },
  {
   "cell_type": "code",
   "execution_count": 33,
   "metadata": {},
   "outputs": [
    {
     "name": "stdout",
     "output_type": "stream",
     "text": [
      "SVM Accuracy:  0.8994413407821229\n",
      "Test set Jaccard similarity score:  0.8994413407821229\n",
      "Test set F1 score:  0.8991031390134528\n"
     ]
    },
    {
     "name": "stderr",
     "output_type": "stream",
     "text": [
      "C:\\Users\\nollir\\AppData\\Local\\Continuum\\anaconda3\\envs\\py3-TF2\\lib\\site-packages\\sklearn\\metrics\\classification.py:635: DeprecationWarning: jaccard_similarity_score has been deprecated and replaced with jaccard_score. It will be removed in version 0.23. This implementation has surprising behavior for binary and multiclass classification tasks.\n",
      "  'and multiclass classification tasks.', DeprecationWarning)\n"
     ]
    }
   ],
   "source": [
    "pred_targets=audiobooks_bc_svm.predict(test_inputs)\n",
    "print(\"SVM Accuracy: \", metrics.accuracy_score(test_targets, pred_targets))\n",
    "print(\"Test set Jaccard similarity score: \", metrics.jaccard_similarity_score(test_targets, pred_targets))\n",
    "print(\"Test set F1 score: \", metrics.f1_score(test_targets, pred_targets))"
   ]
  },
  {
   "cell_type": "code",
   "execution_count": 34,
   "metadata": {},
   "outputs": [
    {
     "data": {
      "text/plain": [
       "array([[404,  49],\n",
       "       [ 41, 401]], dtype=int64)"
      ]
     },
     "execution_count": 34,
     "metadata": {},
     "output_type": "execute_result"
    }
   ],
   "source": [
    "confusion_matrix(test_targets, pred_targets)"
   ]
  },
  {
   "cell_type": "code",
   "execution_count": null,
   "metadata": {},
   "outputs": [],
   "source": []
  }
 ],
 "metadata": {
  "kernelspec": {
   "display_name": "Python 3",
   "language": "python",
   "name": "python3"
  },
  "language_info": {
   "codemirror_mode": {
    "name": "ipython",
    "version": 3
   },
   "file_extension": ".py",
   "mimetype": "text/x-python",
   "name": "python",
   "nbconvert_exporter": "python",
   "pygments_lexer": "ipython3",
   "version": "3.7.5"
  }
 },
 "nbformat": 4,
 "nbformat_minor": 4
}
